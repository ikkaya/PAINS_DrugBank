{
  "nbformat": 4,
  "nbformat_minor": 0,
  "metadata": {
    "colab": {
      "name": "PAINS_DrugBank.ipynb",
      "version": "0.3.2",
      "provenance": [],
      "collapsed_sections": [],
      "include_colab_link": true
    },
    "kernelspec": {
      "name": "python3",
      "display_name": "Python 3"
    }
  },
  "cells": [
    {
      "cell_type": "markdown",
      "metadata": {
        "id": "view-in-github",
        "colab_type": "text"
      },
      "source": [
        "<a href=\"https://colab.research.google.com/github/ikkaya/PAINS_DrugBank/blob/master/PAINS_DrugBank.ipynb\" target=\"_parent\"><img src=\"https://colab.research.google.com/assets/colab-badge.svg\" alt=\"Open In Colab\"/></a>"
      ]
    },
    {
      "cell_type": "code",
      "metadata": {
        "id": "tuvxlayH54iv",
        "colab_type": "code",
        "colab": {}
      },
      "source": [
        "import pandas as pd\n",
        "import numpy as np\n",
        "import matplotlib.pyplot as plt\n",
        "from rdkit import Chem\n",
        "from rdkit.Chem import DataStructs\n",
        "from rdkit.Chem import AllChem\n",
        "from rdkit.Chem import RDConfig\n",
        "from rdkit import rdBase\n",
        "from rdkit.Chem.Draw import IPythonConsole   #Needed to show molecules"
      ],
      "execution_count": 0,
      "outputs": []
    },
    {
      "cell_type": "code",
      "metadata": {
        "id": "12JRmAgI57TR",
        "colab_type": "code",
        "outputId": "efc6fdcf-c945-48f0-c1a2-25cb894773d2",
        "colab": {
          "base_uri": "https://localhost:8080/",
          "height": 204
        }
      },
      "source": [
        "painsdf= pd.read_csv(\"wehi_pains.csv\", header = None, names = [\"smarts\", \"painsid\"])\n",
        "painsdf.head()"
      ],
      "execution_count": 0,
      "outputs": [
        {
          "output_type": "execute_result",
          "data": {
            "text/html": [
              "<div>\n",
              "<style scoped>\n",
              "    .dataframe tbody tr th:only-of-type {\n",
              "        vertical-align: middle;\n",
              "    }\n",
              "\n",
              "    .dataframe tbody tr th {\n",
              "        vertical-align: top;\n",
              "    }\n",
              "\n",
              "    .dataframe thead th {\n",
              "        text-align: right;\n",
              "    }\n",
              "</style>\n",
              "<table border=\"1\" class=\"dataframe\">\n",
              "  <thead>\n",
              "    <tr style=\"text-align: right;\">\n",
              "      <th></th>\n",
              "      <th>smarts</th>\n",
              "      <th>painsid</th>\n",
              "    </tr>\n",
              "  </thead>\n",
              "  <tbody>\n",
              "    <tr>\n",
              "      <th>0</th>\n",
              "      <td>c:1:c:c(:c:c:c:1-[#6;X4]-c:2:c:c:c(:c:c:2)-[#7...</td>\n",
              "      <td>&lt;regId=anil_di_alk_F(14)&gt;</td>\n",
              "    </tr>\n",
              "    <tr>\n",
              "      <th>1</th>\n",
              "      <td>c:1(:c(:c(:c(:c(:c:1-[#1])-[#1])-[#7](-[#1])-[...</td>\n",
              "      <td>&lt;regId=hzone_anil(14)&gt;</td>\n",
              "    </tr>\n",
              "    <tr>\n",
              "      <th>2</th>\n",
              "      <td>c1(nn(c([c;!H0,$(c-[#6;!H0])]1)-[#8]-[#1])-c:2...</td>\n",
              "      <td>&lt;regId=het_5_pyrazole_OH(14)&gt;</td>\n",
              "    </tr>\n",
              "    <tr>\n",
              "      <th>3</th>\n",
              "      <td>c:2(:c:1-[#16]-c:3:c(-[#7;!H0,$([#7]-[CH3]),$(...</td>\n",
              "      <td>&lt;regId=het_thio_666_A(13)&gt;</td>\n",
              "    </tr>\n",
              "    <tr>\n",
              "      <th>4</th>\n",
              "      <td>[#6]-2-[#6]-c:1:c(:c:c:c:c:1)-[#6](-c:3:c:c:c:...</td>\n",
              "      <td>&lt;regId=styrene_A(13)&gt;</td>\n",
              "    </tr>\n",
              "  </tbody>\n",
              "</table>\n",
              "</div>"
            ],
            "text/plain": [
              "                                              smarts                        painsid\n",
              "0  c:1:c:c(:c:c:c:1-[#6;X4]-c:2:c:c:c(:c:c:2)-[#7...      <regId=anil_di_alk_F(14)>\n",
              "1  c:1(:c(:c(:c(:c(:c:1-[#1])-[#1])-[#7](-[#1])-[...         <regId=hzone_anil(14)>\n",
              "2  c1(nn(c([c;!H0,$(c-[#6;!H0])]1)-[#8]-[#1])-c:2...  <regId=het_5_pyrazole_OH(14)>\n",
              "3  c:2(:c:1-[#16]-c:3:c(-[#7;!H0,$([#7]-[CH3]),$(...     <regId=het_thio_666_A(13)>\n",
              "4  [#6]-2-[#6]-c:1:c(:c:c:c:c:1)-[#6](-c:3:c:c:c:...          <regId=styrene_A(13)>"
            ]
          },
          "metadata": {
            "tags": []
          },
          "execution_count": 4
        }
      ]
    },
    {
      "cell_type": "code",
      "metadata": {
        "id": "f5U39FAk5_ld",
        "colab_type": "code",
        "outputId": "c7548bdb-ce9c-4fab-828d-c1888a8e5410",
        "colab": {
          "base_uri": "https://localhost:8080/",
          "height": 167
        }
      },
      "source": [
        "# Show the first SMARTS\n",
        "Chem.MolFromSmarts(painsdf.smarts[0])"
      ],
      "execution_count": 0,
      "outputs": [
        {
          "output_type": "execute_result",
          "data": {
            "image/png": "[encoded data removed]",
            "text/plain": [
              "<rdkit.Chem.rdchem.Mol at 0x7fe425544580>"
            ]
          },
          "metadata": {
            "tags": []
          },
          "execution_count": 5
        }
      ]
    },
    {
      "cell_type": "code",
      "metadata": {
        "id": "_dpKFxpT6EVH",
        "colab_type": "code",
        "outputId": "a5190410-0f99-4f24-a256-00a16422a0fd",
        "colab": {
          "base_uri": "https://localhost:8080/",
          "height": 204
        }
      },
      "source": [
        "drugdf = pd.read_csv(\"drugbank_results_WithSMILES.csv\", encoding='latin-1')\n",
        "drugdf.head()"
      ],
      "execution_count": 0,
      "outputs": [
        {
          "output_type": "execute_result",
          "data": {
            "text/html": [
              "<div>\n",
              "<style scoped>\n",
              "    .dataframe tbody tr th:only-of-type {\n",
              "        vertical-align: middle;\n",
              "    }\n",
              "\n",
              "    .dataframe tbody tr th {\n",
              "        vertical-align: top;\n",
              "    }\n",
              "\n",
              "    .dataframe thead th {\n",
              "        text-align: right;\n",
              "    }\n",
              "</style>\n",
              "<table border=\"1\" class=\"dataframe\">\n",
              "  <thead>\n",
              "    <tr style=\"text-align: right;\">\n",
              "      <th></th>\n",
              "      <th>DrugBank ID</th>\n",
              "      <th>Name</th>\n",
              "      <th>SMILES</th>\n",
              "    </tr>\n",
              "  </thead>\n",
              "  <tbody>\n",
              "    <tr>\n",
              "      <th>0</th>\n",
              "      <td>DB00006</td>\n",
              "      <td>Bivalirudin</td>\n",
              "      <td>CC[C@H](C)[C@H](NC(=O)[C@H](CCC(O)=O)NC(=O)[C@...</td>\n",
              "    </tr>\n",
              "    <tr>\n",
              "      <th>1</th>\n",
              "      <td>DB00014</td>\n",
              "      <td>Goserelin</td>\n",
              "      <td>CC(C)C[C@H](NC(=O)[C@@H](COC(C)(C)C)NC(=O)[C@H...</td>\n",
              "    </tr>\n",
              "    <tr>\n",
              "      <th>2</th>\n",
              "      <td>DB00027</td>\n",
              "      <td>Gramicidin D</td>\n",
              "      <td>CC(C)C[C@@H](NC(=O)CNC(=O)[C@@H](NC=O)C(C)C)C(...</td>\n",
              "    </tr>\n",
              "    <tr>\n",
              "      <th>3</th>\n",
              "      <td>DB00035</td>\n",
              "      <td>Desmopressin</td>\n",
              "      <td>NC(=O)CC[C@@H]1NC(=O)[C@H](CC2=CC=CC=C2)NC(=O)...</td>\n",
              "    </tr>\n",
              "    <tr>\n",
              "      <th>4</th>\n",
              "      <td>DB00050</td>\n",
              "      <td>Cetrorelix</td>\n",
              "      <td>CC(C)C[C@H](NC(=O)[C@@H](CCCNC(N)=O)NC(=O)[C@H...</td>\n",
              "    </tr>\n",
              "  </tbody>\n",
              "</table>\n",
              "</div>"
            ],
            "text/plain": [
              "  DrugBank ID          Name                                             SMILES\n",
              "0     DB00006   Bivalirudin  CC[C@H](C)[C@H](NC(=O)[C@H](CCC(O)=O)NC(=O)[C@...\n",
              "1     DB00014     Goserelin  CC(C)C[C@H](NC(=O)[C@@H](COC(C)(C)C)NC(=O)[C@H...\n",
              "2     DB00027  Gramicidin D  CC(C)C[C@@H](NC(=O)CNC(=O)[C@@H](NC=O)C(C)C)C(...\n",
              "3     DB00035  Desmopressin  NC(=O)CC[C@@H]1NC(=O)[C@H](CC2=CC=CC=C2)NC(=O)...\n",
              "4     DB00050    Cetrorelix  CC(C)C[C@H](NC(=O)[C@@H](CCCNC(N)=O)NC(=O)[C@H..."
            ]
          },
          "metadata": {
            "tags": []
          },
          "execution_count": 6
        }
      ]
    },
    {
      "cell_type": "code",
      "metadata": {
        "id": "sks1PVsc6P-0",
        "colab_type": "code",
        "outputId": "9c0ae3eb-4dc1-44b2-bb83-246dcbfec88f",
        "colab": {
          "base_uri": "https://localhost:8080/",
          "height": 167
        }
      },
      "source": [
        "# Show the first SMILES\n",
        "Chem.MolFromSmiles(drugdf.SMILES[0])"
      ],
      "execution_count": 0,
      "outputs": [
        {
          "output_type": "execute_result",
          "data": {
            "image/png": "[encoded data removed]",
            "text/plain": [
              "<rdkit.Chem.rdchem.Mol at 0x7fe425730cb0>"
            ]
          },
          "metadata": {
            "tags": []
          },
          "execution_count": 7
        }
      ]
    },
    {
      "cell_type": "code",
      "metadata": {
        "id": "uNNJ6rVu6YPB",
        "colab_type": "code",
        "outputId": "196d350f-bbf6-4473-b22d-a695ebf803b9",
        "colab": {
          "base_uri": "https://localhost:8080/",
          "height": 34
        }
      },
      "source": [
        "# Number of pains patterns\n",
        "npat = painsdf.shape[0]\n",
        "npat"
      ],
      "execution_count": 0,
      "outputs": [
        {
          "output_type": "execute_result",
          "data": {
            "text/plain": [
              "480"
            ]
          },
          "metadata": {
            "tags": []
          },
          "execution_count": 8
        }
      ]
    },
    {
      "cell_type": "code",
      "metadata": {
        "id": "3NI49zfH6bz_",
        "colab_type": "code",
        "outputId": "aab6c0f6-c8c0-4bd9-9a0c-4f4b6542250f",
        "colab": {
          "base_uri": "https://localhost:8080/",
          "height": 34
        }
      },
      "source": [
        "# Number of molecules in drugdb\n",
        "nmol = drugdf.shape[0]\n",
        "nmol"
      ],
      "execution_count": 0,
      "outputs": [
        {
          "output_type": "execute_result",
          "data": {
            "text/plain": [
              "10630"
            ]
          },
          "metadata": {
            "tags": []
          },
          "execution_count": 9
        }
      ]
    },
    {
      "cell_type": "code",
      "metadata": {
        "id": "Xnb_eHbG6fCG",
        "colab_type": "code",
        "outputId": "ed8d9a16-a515-426d-88c1-1c5b3d4c6a34",
        "colab": {
          "base_uri": "https://localhost:8080/",
          "height": 136
        }
      },
      "source": [
        "# Create the output n molecules x p patterns matrix filled with zeros\n",
        "from numpy import zeros\n",
        "resmat = zeros([nmol,npat])\n",
        "resmat"
      ],
      "execution_count": 0,
      "outputs": [
        {
          "output_type": "execute_result",
          "data": {
            "text/plain": [
              "array([[0., 0., 0., ..., 0., 0., 0.],\n",
              "       [0., 0., 0., ..., 0., 0., 0.],\n",
              "       [0., 0., 0., ..., 0., 0., 0.],\n",
              "       ...,\n",
              "       [0., 0., 0., ..., 0., 0., 0.],\n",
              "       [0., 0., 0., ..., 0., 0., 0.],\n",
              "       [0., 0., 0., ..., 0., 0., 0.]])"
            ]
          },
          "metadata": {
            "tags": []
          },
          "execution_count": 10
        }
      ]
    },
    {
      "cell_type": "code",
      "metadata": {
        "id": "3bwVBwb26jP0",
        "colab_type": "code",
        "outputId": "9d73d887-b944-41f0-abc2-ec411e30dbd8",
        "colab": {
          "base_uri": "https://localhost:8080/",
          "height": 204
        }
      },
      "source": [
        "# Generate the patterns from the SMARTS\n",
        "painsdf[\"patt\"]  = painsdf[\"smarts\"].apply(Chem.MolFromSmarts)\n",
        "painsdf.head()"
      ],
      "execution_count": 0,
      "outputs": [
        {
          "output_type": "execute_result",
          "data": {
            "text/html": [
              "<div>\n",
              "<style scoped>\n",
              "    .dataframe tbody tr th:only-of-type {\n",
              "        vertical-align: middle;\n",
              "    }\n",
              "\n",
              "    .dataframe tbody tr th {\n",
              "        vertical-align: top;\n",
              "    }\n",
              "\n",
              "    .dataframe thead th {\n",
              "        text-align: right;\n",
              "    }\n",
              "</style>\n",
              "<table border=\"1\" class=\"dataframe\">\n",
              "  <thead>\n",
              "    <tr style=\"text-align: right;\">\n",
              "      <th></th>\n",
              "      <th>smarts</th>\n",
              "      <th>painsid</th>\n",
              "      <th>patt</th>\n",
              "    </tr>\n",
              "  </thead>\n",
              "  <tbody>\n",
              "    <tr>\n",
              "      <th>0</th>\n",
              "      <td>c:1:c:c(:c:c:c:1-[#6;X4]-c:2:c:c:c(:c:c:2)-[#7...</td>\n",
              "      <td>&lt;regId=anil_di_alk_F(14)&gt;</td>\n",
              "      <td>&lt;rdkit.Chem.rdchem.Mol object at 0x7fe4255e7440&gt;</td>\n",
              "    </tr>\n",
              "    <tr>\n",
              "      <th>1</th>\n",
              "      <td>c:1(:c(:c(:c(:c(:c:1-[#1])-[#1])-[#7](-[#1])-[...</td>\n",
              "      <td>&lt;regId=hzone_anil(14)&gt;</td>\n",
              "      <td>&lt;rdkit.Chem.rdchem.Mol object at 0x7fe4252fd580&gt;</td>\n",
              "    </tr>\n",
              "    <tr>\n",
              "      <th>2</th>\n",
              "      <td>c1(nn(c([c;!H0,$(c-[#6;!H0])]1)-[#8]-[#1])-c:2...</td>\n",
              "      <td>&lt;regId=het_5_pyrazole_OH(14)&gt;</td>\n",
              "      <td>&lt;rdkit.Chem.rdchem.Mol object at 0x7fe4252fd6c0&gt;</td>\n",
              "    </tr>\n",
              "    <tr>\n",
              "      <th>3</th>\n",
              "      <td>c:2(:c:1-[#16]-c:3:c(-[#7;!H0,$([#7]-[CH3]),$(...</td>\n",
              "      <td>&lt;regId=het_thio_666_A(13)&gt;</td>\n",
              "      <td>&lt;rdkit.Chem.rdchem.Mol object at 0x7fe4252fd710&gt;</td>\n",
              "    </tr>\n",
              "    <tr>\n",
              "      <th>4</th>\n",
              "      <td>[#6]-2-[#6]-c:1:c(:c:c:c:c:1)-[#6](-c:3:c:c:c:...</td>\n",
              "      <td>&lt;regId=styrene_A(13)&gt;</td>\n",
              "      <td>&lt;rdkit.Chem.rdchem.Mol object at 0x7fe4252fd760&gt;</td>\n",
              "    </tr>\n",
              "  </tbody>\n",
              "</table>\n",
              "</div>"
            ],
            "text/plain": [
              "                                              smarts  ...                                              patt\n",
              "0  c:1:c:c(:c:c:c:1-[#6;X4]-c:2:c:c:c(:c:c:2)-[#7...  ...  <rdkit.Chem.rdchem.Mol object at 0x7fe4255e7440>\n",
              "1  c:1(:c(:c(:c(:c(:c:1-[#1])-[#1])-[#7](-[#1])-[...  ...  <rdkit.Chem.rdchem.Mol object at 0x7fe4252fd580>\n",
              "2  c1(nn(c([c;!H0,$(c-[#6;!H0])]1)-[#8]-[#1])-c:2...  ...  <rdkit.Chem.rdchem.Mol object at 0x7fe4252fd6c0>\n",
              "3  c:2(:c:1-[#16]-c:3:c(-[#7;!H0,$([#7]-[CH3]),$(...  ...  <rdkit.Chem.rdchem.Mol object at 0x7fe4252fd710>\n",
              "4  [#6]-2-[#6]-c:1:c(:c:c:c:c:1)-[#6](-c:3:c:c:c:...  ...  <rdkit.Chem.rdchem.Mol object at 0x7fe4252fd760>\n",
              "\n",
              "[5 rows x 3 columns]"
            ]
          },
          "metadata": {
            "tags": []
          },
          "execution_count": 11
        }
      ]
    },
    {
      "cell_type": "code",
      "metadata": {
        "id": "1VSyGdbg6mS7",
        "colab_type": "code",
        "colab": {}
      },
      "source": [
        "# Generate the molecules from the SMILES\n",
        "drugdf[\"mol\"] = drugdf[\"SMILES\"].apply(Chem.MolFromSmiles)\n",
        "drugdf.head()"
      ],
      "execution_count": 0,
      "outputs": []
    },
    {
      "cell_type": "code",
      "metadata": {
        "id": "MAC3am1n6usb",
        "colab_type": "code",
        "colab": {}
      },
      "source": [
        "# Double loop over molecules and patterns to find matches; if any of molecules or patterns are None (failed to be created)\n",
        "# set output to -1; if match, fill with 1. \n",
        "for i in range(drugdf.shape[0]):\n",
        "    for j in range(painsdf.shape[0]):\n",
        "        m = drugdf[\"mol\"].iloc[i]\n",
        "        p = painsdf[\"patt\"].iloc[j]\n",
        "        if m is None or p is None:\n",
        "            resmat[i][j] = -1\n",
        "        else:\n",
        "            resmat[i][j] = m.HasSubstructMatch(p) "
      ],
      "execution_count": 0,
      "outputs": []
    },
    {
      "cell_type": "code",
      "metadata": {
        "id": "ICgmZqHz67x_",
        "colab_type": "code",
        "outputId": "1438106e-8439-43fb-ae51-b17f4793e772",
        "colab": {
          "base_uri": "https://localhost:8080/",
          "height": 765
        }
      },
      "source": [
        "# Show the matches; first array displays the row (molecule); second array displays the column (pattern)\n",
        "np.where(resmat == 1)"
      ],
      "execution_count": 0,
      "outputs": [
        {
          "output_type": "execute_result",
          "data": {
            "text/plain": [
              "(array([   64,   145,   170,   198,   214,   276,   296,   334,   384,\n",
              "          387,   426,   501,   579,   676,   693,   731,   755,   840,\n",
              "          872,   889,   897,   901,   974,   987,   995,  1008,  1026,\n",
              "         1036,  1046,  1073,  1073,  1107,  1118,  1129,  1197,  1243,\n",
              "         1316,  1414,  1415,  1456,  1582,  1692,  1773,  1861,  1917,\n",
              "         1986,  2126,  2130,  2135,  2159,  2250,  2354,  2354,  2544,\n",
              "         2553,  2668,  2726,  2727,  2879,  2885,  2885,  2899,  2962,\n",
              "         3109,  3138,  3237,  3259,  3275,  3280,  3283,  3313,  3439,\n",
              "         3479,  3487,  3527,  3535,  3555,  3555,  3689,  3713,  3739,\n",
              "         3753,  3837,  3940,  3944,  3967,  4067,  4133,  4210,  4230,\n",
              "         4230,  4251,  4325,  4379,  4396,  4510,  4510,  4551,  4561,\n",
              "         4649,  4687,  4695,  4759,  4812,  4812,  4827,  4851,  4859,\n",
              "         4875,  4918,  4947,  5093,  5094,  5144,  5273,  5329,  5499,\n",
              "         5588,  5667,  5667,  5711,  5726,  5941,  5951,  5955,  5981,\n",
              "         5982,  5983,  6024,  6025,  6039,  6064,  6140,  6141,  6153,\n",
              "         6182,  6418,  6454,  6472,  6476,  6489,  6502,  6509,  6543,\n",
              "         6759,  6905,  6912,  6929,  6935,  6936,  6937,  6940,  6957,\n",
              "         6958,  6972,  6976,  7050,  7057,  7086,  7164,  7232,  7232,\n",
              "         7282,  7324,  7344,  7441,  7631,  7678,  7820,  7836,  7843,\n",
              "         7864,  7865,  7866,  7878,  8069,  8115,  8141,  8141,  8180,\n",
              "         8310,  8316,  8354,  8418,  8521,  8532,  8549,  8572,  8676,\n",
              "         9021,  9047,  9066,  9091,  9101,  9118,  9142,  9183,  9222,\n",
              "         9237,  9238,  9243,  9286,  9302,  9318,  9396,  9396,  9460,\n",
              "         9460,  9464,  9554,  9587,  9590,  9590,  9606,  9635,  9649,\n",
              "         9742,  9824,  9919,  9988, 10164, 10306, 10409, 10434, 10497,\n",
              "        10522, 10573, 10579]),\n",
              " array([468, 473, 423, 468,   4, 468, 472, 468, 469, 416,   4, 468, 468,\n",
              "        469,  10, 469,  29, 433, 468, 469, 468, 473, 423, 468, 416,  10,\n",
              "        473, 473, 468, 433, 468,  29, 469, 473, 185, 469, 457,  29,  29,\n",
              "        468, 468, 468, 469, 473,  18, 423, 423, 468, 468, 468, 468, 433,\n",
              "        468, 423, 428, 469, 468, 468, 468, 205, 470, 468, 469, 469, 469,\n",
              "         10, 469, 468, 468, 469, 469, 477, 469, 469, 472, 472, 433, 468,\n",
              "        468, 468, 472, 468, 468, 416, 468, 469, 469, 469, 468, 457, 468,\n",
              "         15, 468, 468, 468, 433, 468, 468, 473, 409, 473, 468, 468, 433,\n",
              "        468, 413, 469, 468, 473, 468, 468, 468, 468, 433, 469, 437, 437,\n",
              "        473, 205, 470, 468,  10, 473, 468, 468, 469, 472, 468, 468, 468,\n",
              "        469, 457, 474, 473, 473, 469, 478,  11, 474, 469, 469, 469, 469,\n",
              "        469, 412, 472, 473, 468, 469, 469, 469, 469, 468, 468, 412, 412,\n",
              "        469, 469, 470,  10, 205, 470, 468, 472, 469, 468, 472, 472, 409,\n",
              "        423, 426, 468, 468, 468, 473, 473, 468, 205, 470, 468, 468, 468,\n",
              "        473, 469, 468, 469, 468, 468, 468, 468, 477, 468, 468,   4, 416,\n",
              "        468,  10, 416,  29, 469, 468, 416,  10,  29, 205, 470, 205, 470,\n",
              "        416, 478, 468, 205, 470, 468, 457, 469,  29, 472, 468, 469, 185,\n",
              "        468, 473, 469, 433, 474, 468, 468]))"
            ]
          },
          "metadata": {
            "tags": []
          },
          "execution_count": 14
        }
      ]
    },
    {
      "cell_type": "code",
      "metadata": {
        "id": "Baw6veSa71Bd",
        "colab_type": "code",
        "outputId": "234740e1-76ce-4a78-d30a-36b585116f1c",
        "colab": {
          "base_uri": "https://localhost:8080/",
          "height": 34
        }
      },
      "source": [
        "# Check that resmat is 1 for molecule 64 and pattern 468\n",
        "resmat[64][468]"
      ],
      "execution_count": 0,
      "outputs": [
        {
          "output_type": "execute_result",
          "data": {
            "text/plain": [
              "1.0"
            ]
          },
          "metadata": {
            "tags": []
          },
          "execution_count": 15
        }
      ]
    },
    {
      "cell_type": "code",
      "metadata": {
        "id": "K7p8nvzt79B8",
        "colab_type": "code",
        "outputId": "9e31ff3e-477f-454f-e91d-ed5160101fbc",
        "colab": {
          "base_uri": "https://localhost:8080/",
          "height": 167
        }
      },
      "source": [
        "# Show the molecule with the match\n",
        "drugdf.mol.iloc[64]"
      ],
      "execution_count": 0,
      "outputs": [
        {
          "output_type": "execute_result",
          "data": {
            "image/png": "[encoded data removed]",
            "text/plain": [
              "<rdkit.Chem.rdchem.Mol at 0x7fe42530da30>"
            ]
          },
          "metadata": {
            "tags": []
          },
          "execution_count": 16
        }
      ]
    },
    {
      "cell_type": "code",
      "metadata": {
        "id": "i4RY5DLO8C5O",
        "colab_type": "code",
        "outputId": "5a78e94f-5118-42de-b8f9-5b85bcc29bef",
        "colab": {
          "base_uri": "https://localhost:8080/",
          "height": 167
        }
      },
      "source": [
        "# Show the pattern with the match; see that it makes sense\n",
        "painsdf.patt.iloc[468]"
      ],
      "execution_count": 0,
      "outputs": [
        {
          "output_type": "execute_result",
          "data": {
            "image/png": "[encoded data removed]",
            "text/plain": [
              "<rdkit.Chem.rdchem.Mol at 0x7fe425308bc0>"
            ]
          },
          "metadata": {
            "tags": []
          },
          "execution_count": 17
        }
      ]
    },
    {
      "cell_type": "code",
      "metadata": {
        "id": "EZZx0uKz8IYK",
        "colab_type": "code",
        "outputId": "60528ec3-d061-43ad-8751-99c4639be94f",
        "colab": {
          "base_uri": "https://localhost:8080/",
          "height": 323
        }
      },
      "source": [
        "num_ones = (np.where(resmat == 1))\n",
        "num_ones[1]"
      ],
      "execution_count": 0,
      "outputs": [
        {
          "output_type": "execute_result",
          "data": {
            "text/plain": [
              "array([468, 473, 423, 468,   4, 468, 472, 468, 469, 416,   4, 468, 468,\n",
              "       469,  10, 469,  29, 433, 468, 469, 468, 473, 423, 468, 416,  10,\n",
              "       473, 473, 468, 433, 468,  29, 469, 473, 185, 469, 457,  29,  29,\n",
              "       468, 468, 468, 469, 473,  18, 423, 423, 468, 468, 468, 468, 433,\n",
              "       468, 423, 428, 469, 468, 468, 468, 205, 470, 468, 469, 469, 469,\n",
              "        10, 469, 468, 468, 469, 469, 477, 469, 469, 472, 472, 433, 468,\n",
              "       468, 468, 472, 468, 468, 416, 468, 469, 469, 469, 468, 457, 468,\n",
              "        15, 468, 468, 468, 433, 468, 468, 473, 409, 473, 468, 468, 433,\n",
              "       468, 413, 469, 468, 473, 468, 468, 468, 468, 433, 469, 437, 437,\n",
              "       473, 205, 470, 468,  10, 473, 468, 468, 469, 472, 468, 468, 468,\n",
              "       469, 457, 474, 473, 473, 469, 478,  11, 474, 469, 469, 469, 469,\n",
              "       469, 412, 472, 473, 468, 469, 469, 469, 469, 468, 468, 412, 412,\n",
              "       469, 469, 470,  10, 205, 470, 468, 472, 469, 468, 472, 472, 409,\n",
              "       423, 426, 468, 468, 468, 473, 473, 468, 205, 470, 468, 468, 468,\n",
              "       473, 469, 468, 469, 468, 468, 468, 468, 477, 468, 468,   4, 416,\n",
              "       468,  10, 416,  29, 469, 468, 416,  10,  29, 205, 470, 205, 470,\n",
              "       416, 478, 468, 205, 470, 468, 457, 469,  29, 472, 468, 469, 185,\n",
              "       468, 473, 469, 433, 474, 468, 468])"
            ]
          },
          "metadata": {
            "tags": []
          },
          "execution_count": 18
        }
      ]
    },
    {
      "cell_type": "code",
      "metadata": {
        "id": "YgSDKgMT8Wyk",
        "colab_type": "code",
        "outputId": "71eac159-ee1a-416c-b112-c0bad77e567e",
        "colab": {
          "base_uri": "https://localhost:8080/",
          "height": 459
        }
      },
      "source": [
        "unique, counts = np.unique(num_ones[1], return_counts = True)\n",
        "dict(zip(unique, counts))"
      ],
      "execution_count": 0,
      "outputs": [
        {
          "output_type": "execute_result",
          "data": {
            "text/plain": [
              "{4: 3,\n",
              " 10: 7,\n",
              " 11: 1,\n",
              " 15: 1,\n",
              " 18: 1,\n",
              " 29: 7,\n",
              " 185: 2,\n",
              " 205: 7,\n",
              " 409: 2,\n",
              " 412: 3,\n",
              " 413: 1,\n",
              " 416: 7,\n",
              " 423: 6,\n",
              " 426: 1,\n",
              " 428: 1,\n",
              " 433: 8,\n",
              " 437: 2,\n",
              " 457: 4,\n",
              " 468: 79,\n",
              " 469: 42,\n",
              " 470: 8,\n",
              " 472: 10,\n",
              " 473: 18,\n",
              " 474: 3,\n",
              " 477: 2,\n",
              " 478: 2}"
            ]
          },
          "metadata": {
            "tags": []
          },
          "execution_count": 19
        }
      ]
    },
    {
      "cell_type": "code",
      "metadata": {
        "id": "LnvTodzk8fMz",
        "colab_type": "code",
        "outputId": "403076d9-1a20-4187-94cd-bb8bb40ded37",
        "colab": {
          "base_uri": "https://localhost:8080/",
          "height": 51
        }
      },
      "source": [
        "counts"
      ],
      "execution_count": 0,
      "outputs": [
        {
          "output_type": "execute_result",
          "data": {
            "text/plain": [
              "array([ 3,  7,  1,  1,  1,  7,  2,  7,  2,  3,  1,  7,  6,  1,  1,  8,  2,\n",
              "        4, 79, 42,  8, 10, 18,  3,  2,  2])"
            ]
          },
          "metadata": {
            "tags": []
          },
          "execution_count": 20
        }
      ]
    },
    {
      "cell_type": "code",
      "metadata": {
        "id": "F5McS0OP8ivC",
        "colab_type": "code",
        "outputId": "91b5d054-6ccf-4264-8d17-cde17c5606ca",
        "colab": {
          "base_uri": "https://localhost:8080/",
          "height": 459
        }
      },
      "source": [
        "y = sorted(dict(zip(unique, counts)).values(), reverse=True)\n",
        "y"
      ],
      "execution_count": 0,
      "outputs": [
        {
          "output_type": "execute_result",
          "data": {
            "text/plain": [
              "[79,\n",
              " 42,\n",
              " 18,\n",
              " 10,\n",
              " 8,\n",
              " 8,\n",
              " 7,\n",
              " 7,\n",
              " 7,\n",
              " 7,\n",
              " 6,\n",
              " 4,\n",
              " 3,\n",
              " 3,\n",
              " 3,\n",
              " 2,\n",
              " 2,\n",
              " 2,\n",
              " 2,\n",
              " 2,\n",
              " 1,\n",
              " 1,\n",
              " 1,\n",
              " 1,\n",
              " 1,\n",
              " 1]"
            ]
          },
          "metadata": {
            "tags": []
          },
          "execution_count": 21
        }
      ]
    },
    {
      "cell_type": "code",
      "metadata": {
        "id": "9bUDuIkR8lgP",
        "colab_type": "code",
        "outputId": "9328556e-e0da-489c-d1c5-54203bb8b085",
        "colab": {
          "base_uri": "https://localhost:8080/",
          "height": 855
        }
      },
      "source": [
        "df=pd.DataFrame(unique,counts,columns=['pains'])\n",
        "df"
      ],
      "execution_count": 0,
      "outputs": [
        {
          "output_type": "execute_result",
          "data": {
            "text/html": [
              "<div>\n",
              "<style scoped>\n",
              "    .dataframe tbody tr th:only-of-type {\n",
              "        vertical-align: middle;\n",
              "    }\n",
              "\n",
              "    .dataframe tbody tr th {\n",
              "        vertical-align: top;\n",
              "    }\n",
              "\n",
              "    .dataframe thead th {\n",
              "        text-align: right;\n",
              "    }\n",
              "</style>\n",
              "<table border=\"1\" class=\"dataframe\">\n",
              "  <thead>\n",
              "    <tr style=\"text-align: right;\">\n",
              "      <th></th>\n",
              "      <th>pains</th>\n",
              "    </tr>\n",
              "  </thead>\n",
              "  <tbody>\n",
              "    <tr>\n",
              "      <th>3</th>\n",
              "      <td>4</td>\n",
              "    </tr>\n",
              "    <tr>\n",
              "      <th>7</th>\n",
              "      <td>10</td>\n",
              "    </tr>\n",
              "    <tr>\n",
              "      <th>1</th>\n",
              "      <td>11</td>\n",
              "    </tr>\n",
              "    <tr>\n",
              "      <th>1</th>\n",
              "      <td>15</td>\n",
              "    </tr>\n",
              "    <tr>\n",
              "      <th>1</th>\n",
              "      <td>18</td>\n",
              "    </tr>\n",
              "    <tr>\n",
              "      <th>7</th>\n",
              "      <td>29</td>\n",
              "    </tr>\n",
              "    <tr>\n",
              "      <th>2</th>\n",
              "      <td>185</td>\n",
              "    </tr>\n",
              "    <tr>\n",
              "      <th>7</th>\n",
              "      <td>205</td>\n",
              "    </tr>\n",
              "    <tr>\n",
              "      <th>2</th>\n",
              "      <td>409</td>\n",
              "    </tr>\n",
              "    <tr>\n",
              "      <th>3</th>\n",
              "      <td>412</td>\n",
              "    </tr>\n",
              "    <tr>\n",
              "      <th>1</th>\n",
              "      <td>413</td>\n",
              "    </tr>\n",
              "    <tr>\n",
              "      <th>7</th>\n",
              "      <td>416</td>\n",
              "    </tr>\n",
              "    <tr>\n",
              "      <th>6</th>\n",
              "      <td>423</td>\n",
              "    </tr>\n",
              "    <tr>\n",
              "      <th>1</th>\n",
              "      <td>426</td>\n",
              "    </tr>\n",
              "    <tr>\n",
              "      <th>1</th>\n",
              "      <td>428</td>\n",
              "    </tr>\n",
              "    <tr>\n",
              "      <th>8</th>\n",
              "      <td>433</td>\n",
              "    </tr>\n",
              "    <tr>\n",
              "      <th>2</th>\n",
              "      <td>437</td>\n",
              "    </tr>\n",
              "    <tr>\n",
              "      <th>4</th>\n",
              "      <td>457</td>\n",
              "    </tr>\n",
              "    <tr>\n",
              "      <th>79</th>\n",
              "      <td>468</td>\n",
              "    </tr>\n",
              "    <tr>\n",
              "      <th>42</th>\n",
              "      <td>469</td>\n",
              "    </tr>\n",
              "    <tr>\n",
              "      <th>8</th>\n",
              "      <td>470</td>\n",
              "    </tr>\n",
              "    <tr>\n",
              "      <th>10</th>\n",
              "      <td>472</td>\n",
              "    </tr>\n",
              "    <tr>\n",
              "      <th>18</th>\n",
              "      <td>473</td>\n",
              "    </tr>\n",
              "    <tr>\n",
              "      <th>3</th>\n",
              "      <td>474</td>\n",
              "    </tr>\n",
              "    <tr>\n",
              "      <th>2</th>\n",
              "      <td>477</td>\n",
              "    </tr>\n",
              "    <tr>\n",
              "      <th>2</th>\n",
              "      <td>478</td>\n",
              "    </tr>\n",
              "  </tbody>\n",
              "</table>\n",
              "</div>"
            ],
            "text/plain": [
              "    pains\n",
              "3       4\n",
              "7      10\n",
              "1      11\n",
              "1      15\n",
              "1      18\n",
              "7      29\n",
              "2     185\n",
              "7     205\n",
              "2     409\n",
              "3     412\n",
              "1     413\n",
              "7     416\n",
              "6     423\n",
              "1     426\n",
              "1     428\n",
              "8     433\n",
              "2     437\n",
              "4     457\n",
              "79    468\n",
              "42    469\n",
              "8     470\n",
              "10    472\n",
              "18    473\n",
              "3     474\n",
              "2     477\n",
              "2     478"
            ]
          },
          "metadata": {
            "tags": []
          },
          "execution_count": 22
        }
      ]
    },
    {
      "cell_type": "code",
      "metadata": {
        "id": "5eXHubir8sXB",
        "colab_type": "code",
        "outputId": "00dc7dd1-1a5b-470c-be1b-3d422c974a5f",
        "colab": {
          "base_uri": "https://localhost:8080/",
          "height": 855
        }
      },
      "source": [
        "df.sort_index(ascending=False)"
      ],
      "execution_count": 0,
      "outputs": [
        {
          "output_type": "execute_result",
          "data": {
            "text/html": [
              "<div>\n",
              "<style scoped>\n",
              "    .dataframe tbody tr th:only-of-type {\n",
              "        vertical-align: middle;\n",
              "    }\n",
              "\n",
              "    .dataframe tbody tr th {\n",
              "        vertical-align: top;\n",
              "    }\n",
              "\n",
              "    .dataframe thead th {\n",
              "        text-align: right;\n",
              "    }\n",
              "</style>\n",
              "<table border=\"1\" class=\"dataframe\">\n",
              "  <thead>\n",
              "    <tr style=\"text-align: right;\">\n",
              "      <th></th>\n",
              "      <th>pains</th>\n",
              "    </tr>\n",
              "  </thead>\n",
              "  <tbody>\n",
              "    <tr>\n",
              "      <th>79</th>\n",
              "      <td>468</td>\n",
              "    </tr>\n",
              "    <tr>\n",
              "      <th>42</th>\n",
              "      <td>469</td>\n",
              "    </tr>\n",
              "    <tr>\n",
              "      <th>18</th>\n",
              "      <td>473</td>\n",
              "    </tr>\n",
              "    <tr>\n",
              "      <th>10</th>\n",
              "      <td>472</td>\n",
              "    </tr>\n",
              "    <tr>\n",
              "      <th>8</th>\n",
              "      <td>470</td>\n",
              "    </tr>\n",
              "    <tr>\n",
              "      <th>8</th>\n",
              "      <td>433</td>\n",
              "    </tr>\n",
              "    <tr>\n",
              "      <th>7</th>\n",
              "      <td>29</td>\n",
              "    </tr>\n",
              "    <tr>\n",
              "      <th>7</th>\n",
              "      <td>205</td>\n",
              "    </tr>\n",
              "    <tr>\n",
              "      <th>7</th>\n",
              "      <td>416</td>\n",
              "    </tr>\n",
              "    <tr>\n",
              "      <th>7</th>\n",
              "      <td>10</td>\n",
              "    </tr>\n",
              "    <tr>\n",
              "      <th>6</th>\n",
              "      <td>423</td>\n",
              "    </tr>\n",
              "    <tr>\n",
              "      <th>4</th>\n",
              "      <td>457</td>\n",
              "    </tr>\n",
              "    <tr>\n",
              "      <th>3</th>\n",
              "      <td>4</td>\n",
              "    </tr>\n",
              "    <tr>\n",
              "      <th>3</th>\n",
              "      <td>474</td>\n",
              "    </tr>\n",
              "    <tr>\n",
              "      <th>3</th>\n",
              "      <td>412</td>\n",
              "    </tr>\n",
              "    <tr>\n",
              "      <th>2</th>\n",
              "      <td>477</td>\n",
              "    </tr>\n",
              "    <tr>\n",
              "      <th>2</th>\n",
              "      <td>478</td>\n",
              "    </tr>\n",
              "    <tr>\n",
              "      <th>2</th>\n",
              "      <td>437</td>\n",
              "    </tr>\n",
              "    <tr>\n",
              "      <th>2</th>\n",
              "      <td>409</td>\n",
              "    </tr>\n",
              "    <tr>\n",
              "      <th>2</th>\n",
              "      <td>185</td>\n",
              "    </tr>\n",
              "    <tr>\n",
              "      <th>1</th>\n",
              "      <td>428</td>\n",
              "    </tr>\n",
              "    <tr>\n",
              "      <th>1</th>\n",
              "      <td>413</td>\n",
              "    </tr>\n",
              "    <tr>\n",
              "      <th>1</th>\n",
              "      <td>18</td>\n",
              "    </tr>\n",
              "    <tr>\n",
              "      <th>1</th>\n",
              "      <td>15</td>\n",
              "    </tr>\n",
              "    <tr>\n",
              "      <th>1</th>\n",
              "      <td>11</td>\n",
              "    </tr>\n",
              "    <tr>\n",
              "      <th>1</th>\n",
              "      <td>426</td>\n",
              "    </tr>\n",
              "  </tbody>\n",
              "</table>\n",
              "</div>"
            ],
            "text/plain": [
              "    pains\n",
              "79    468\n",
              "42    469\n",
              "18    473\n",
              "10    472\n",
              "8     470\n",
              "8     433\n",
              "7      29\n",
              "7     205\n",
              "7     416\n",
              "7      10\n",
              "6     423\n",
              "4     457\n",
              "3       4\n",
              "3     474\n",
              "3     412\n",
              "2     477\n",
              "2     478\n",
              "2     437\n",
              "2     409\n",
              "2     185\n",
              "1     428\n",
              "1     413\n",
              "1      18\n",
              "1      15\n",
              "1      11\n",
              "1     426"
            ]
          },
          "metadata": {
            "tags": []
          },
          "execution_count": 23
        }
      ]
    },
    {
      "cell_type": "code",
      "metadata": {
        "id": "2jn3IWju8wDe",
        "colab_type": "code",
        "outputId": "a8c5d5b4-0de0-479e-f289-84afcab86bb2",
        "colab": {
          "base_uri": "https://localhost:8080/",
          "height": 513
        }
      },
      "source": [
        "plt.figure(figsize = [10,7])\n",
        "plt.bar(df.sort_index(ascending=False)['pains'].apply(str),y,alpha=0.5,width=0.6)\n",
        "plt.xlabel('pains')\n",
        "plt.ylabel('number of molecules matched')\n",
        "plt.tight_layout()"
      ],
      "execution_count": 0,
      "outputs": [
        {
          "output_type": "display_data",
          "data": {
            "image/png": "[encoded data removed]",
            "text/plain": [
              "<Figure size 720x504 with 1 Axes>"
            ]
          },
          "metadata": {
            "tags": []
          }
        }
      ]
    },
    {
      "cell_type": "code",
      "metadata": {
        "id": "tmZg6AeB86Sc",
        "colab_type": "code",
        "outputId": "0c59e9a9-edbb-42b6-e5e3-bc8e5bd09330",
        "colab": {
          "base_uri": "https://localhost:8080/",
          "height": 34
        }
      },
      "source": [
        "len(num_ones[0]) #number of molecules that have substructure matches"
      ],
      "execution_count": 0,
      "outputs": [
        {
          "output_type": "execute_result",
          "data": {
            "text/plain": [
              "228"
            ]
          },
          "metadata": {
            "tags": []
          },
          "execution_count": 25
        }
      ]
    },
    {
      "cell_type": "code",
      "metadata": {
        "id": "F26BD6hE9A0X",
        "colab_type": "code",
        "outputId": "c1b0bd78-f615-4d07-f513-99ea000abff7",
        "colab": {
          "base_uri": "https://localhost:8080/",
          "height": 34
        }
      },
      "source": [
        "len(num_ones[1])"
      ],
      "execution_count": 0,
      "outputs": [
        {
          "output_type": "execute_result",
          "data": {
            "text/plain": [
              "228"
            ]
          },
          "metadata": {
            "tags": []
          },
          "execution_count": 26
        }
      ]
    },
    {
      "cell_type": "code",
      "metadata": {
        "id": "M9dDd6bv9DlH",
        "colab_type": "code",
        "outputId": "59de33b6-e22a-43bb-c33c-06800eb47814",
        "colab": {
          "base_uri": "https://localhost:8080/",
          "height": 34
        }
      },
      "source": [
        "non_match = nmol-len(set(num_ones[0]))\n",
        "non_match"
      ],
      "execution_count": 0,
      "outputs": [
        {
          "output_type": "execute_result",
          "data": {
            "text/plain": [
              "10415"
            ]
          },
          "metadata": {
            "tags": []
          },
          "execution_count": 27
        }
      ]
    },
    {
      "cell_type": "code",
      "metadata": {
        "id": "c4-ic_Kq9KP0",
        "colab_type": "code",
        "outputId": "2565263e-8171-4d21-e878-de25d4b31ba3",
        "colab": {
          "base_uri": "https://localhost:8080/",
          "height": 1000
        }
      },
      "source": [
        "#barplot with the painsid \n",
        "plt.figure(figsize = [10,7])\n",
        "plt.bar(painsdf['painsid'].iloc[df.sort_index(ascending=False)['pains']],y,alpha=0.5,width=0.3)\n",
        "plt.xlabel('pains')\n",
        "plt.ylabel('number of molecules matched')\n",
        "plt.tight_layout()\n",
        "plt.xticks(rotation=90)"
      ],
      "execution_count": 0,
      "outputs": [
        {
          "output_type": "execute_result",
          "data": {
            "text/plain": [
              "([0,\n",
              "  1,\n",
              "  2,\n",
              "  3,\n",
              "  4,\n",
              "  5,\n",
              "  6,\n",
              "  7,\n",
              "  8,\n",
              "  9,\n",
              "  10,\n",
              "  11,\n",
              "  12,\n",
              "  13,\n",
              "  14,\n",
              "  15,\n",
              "  16,\n",
              "  17,\n",
              "  18,\n",
              "  19,\n",
              "  20,\n",
              "  21,\n",
              "  22,\n",
              "  23,\n",
              "  24,\n",
              "  25],\n",
              " <a list of 26 Text xticklabel objects>)"
            ]
          },
          "metadata": {
            "tags": []
          },
          "execution_count": 36
        },
        {
          "output_type": "display_data",
          "data": {
            "image/png": "[encoded data removed]",
            "text/plain": [
              "<Figure size 720x504 with 1 Axes>"
            ]
          },
          "metadata": {
            "tags": []
          }
        }
      ]
    },
    {
      "cell_type": "code",
      "metadata": {
        "id": "XcHu8BhD9TAc",
        "colab_type": "code",
        "outputId": "0beca575-21b1-4a8b-fd21-da44d371c12a",
        "colab": {
          "base_uri": "https://localhost:8080/",
          "height": 119
        }
      },
      "source": [
        "most_hitting_smarts = painsdf['smarts'].iloc[df.sort_index(ascending=False)['pains']].head()\n",
        "most_hitting_smarts"
      ],
      "execution_count": 0,
      "outputs": [
        {
          "output_type": "execute_result",
          "data": {
            "text/plain": [
              "468    [!#6&!#1]=[#6]1[#6]=,:[#6][#6](=[!#6&!#1])[#6]...\n",
              "469                                         [#7;!R]=[#7]\n",
              "473    c:1:c:c(:c:c:c:1-[#8]-[#6;X4])-[#7;$([#7!H0]-[...\n",
              "472    c:1:c:c(:c:c:c:1-[#7](-[#6;X4])-[#6;X4])-[#6]=...\n",
              "470    [#6]-[#6](=[!#6&!#1;!R])-[#6](=[!#6&!#1;!R])-[...\n",
              "Name: smarts, dtype: object"
            ]
          },
          "metadata": {
            "tags": []
          },
          "execution_count": 29
        }
      ]
    },
    {
      "cell_type": "code",
      "metadata": {
        "id": "x6mjdCyB-JOM",
        "colab_type": "code",
        "outputId": "f926d65f-dfe9-4b64-e9f3-d3334fc4b611",
        "colab": {
          "base_uri": "https://localhost:8080/",
          "height": 102
        }
      },
      "source": [
        "smart_list = most_hitting_smarts.values.tolist()\n",
        "smart_list"
      ],
      "execution_count": 0,
      "outputs": [
        {
          "output_type": "execute_result",
          "data": {
            "text/plain": [
              "['[!#6&!#1]=[#6]1[#6]=,:[#6][#6](=[!#6&!#1])[#6]=,:[#6]1',\n",
              " '[#7;!R]=[#7]',\n",
              " 'c:1:c:c(:c:c:c:1-[#8]-[#6;X4])-[#7;$([#7!H0]-[#6;X4]),$([#7](-[#6;X4])-[#6;X4])]',\n",
              " 'c:1:c:c(:c:c:c:1-[#7](-[#6;X4])-[#6;X4])-[#6]=[#6]',\n",
              " '[#6]-[#6](=[!#6&!#1;!R])-[#6](=[!#6&!#1;!R])-[$([#6]),$([#16](=[#8])=[#8])]']"
            ]
          },
          "metadata": {
            "tags": []
          },
          "execution_count": 30
        }
      ]
    },
    {
      "cell_type": "code",
      "metadata": {
        "id": "DnssKKrE-N96",
        "colab_type": "code",
        "outputId": "fd16883f-4646-44a8-abc2-e301328feaca",
        "colab": {
          "base_uri": "https://localhost:8080/",
          "height": 102
        }
      },
      "source": [
        "mol_list = [Chem.MolFromSmarts(smarts) for smarts in smart_list]\n",
        "mol_list"
      ],
      "execution_count": 0,
      "outputs": [
        {
          "output_type": "execute_result",
          "data": {
            "text/plain": [
              "[<rdkit.Chem.rdchem.Mol at 0x7fe4228b8b20>,\n",
              " <rdkit.Chem.rdchem.Mol at 0x7fe4228cada0>,\n",
              " <rdkit.Chem.rdchem.Mol at 0x7fe422873710>,\n",
              " <rdkit.Chem.rdchem.Mol at 0x7fe4228735d0>,\n",
              " <rdkit.Chem.rdchem.Mol at 0x7fe425143800>]"
            ]
          },
          "metadata": {
            "tags": []
          },
          "execution_count": 31
        }
      ]
    },
    {
      "cell_type": "code",
      "metadata": {
        "id": "KXWEwxUw-QIe",
        "colab_type": "code",
        "outputId": "e5ee35ef-0e6e-4f3f-c9b9-605aee4b508c",
        "colab": {
          "base_uri": "https://localhost:8080/",
          "height": 102
        }
      },
      "source": [
        "mol_ids = painsdf['painsid'].iloc[df.sort_index(ascending=False)['pains']].head().values.tolist()\n",
        "mol_ids"
      ],
      "execution_count": 0,
      "outputs": [
        {
          "output_type": "execute_result",
          "data": {
            "text/plain": [
              "['<regId=quinone_A(370)>',\n",
              " '<regId=azo_A(324)>',\n",
              " '<regId=anil_di_alk_C(246)>',\n",
              " '<regId=anil_di_alk_B(251)>',\n",
              " '<regId=imine_one_A(321)>']"
            ]
          },
          "metadata": {
            "tags": []
          },
          "execution_count": 32
        }
      ]
    },
    {
      "cell_type": "code",
      "metadata": {
        "id": "y0cd45MK-T69",
        "colab_type": "code",
        "outputId": "a22fc474-e340-4ff4-9833-afe10b703db5",
        "colab": {
          "base_uri": "https://localhost:8080/",
          "height": 417
        }
      },
      "source": [
        "Chem.Draw.MolsToGridImage(mol_list, legends=mol_ids) #the structures of the 5 most hitting SMARTS"
      ],
      "execution_count": 0,
      "outputs": [
        {
          "output_type": "execute_result",
          "data": {
            "image/png": "[encoded data removed]",
            "text/plain": [
              "<PIL.PngImagePlugin.PngImageFile image mode=RGB size=600x400 at 0x7FE42526C390>"
            ]
          },
          "metadata": {
            "tags": []
          },
          "execution_count": 33
        }
      ]
    },
    {
      "cell_type": "code",
      "metadata": {
        "id": "blpr__HR-XSv",
        "colab_type": "code",
        "outputId": "ef04aff7-f6ea-4a2b-ad48-961daa920065",
        "colab": {
          "base_uri": "https://localhost:8080/",
          "height": 1000
        }
      },
      "source": [
        "names_of_mol = drugdf.loc[num_ones[0],['Name']] # names of the molecules that match the PAINS\n",
        "names_of_mol"
      ],
      "execution_count": 0,
      "outputs": [
        {
          "output_type": "execute_result",
          "data": {
            "text/html": [
              "<div>\n",
              "<style scoped>\n",
              "    .dataframe tbody tr th:only-of-type {\n",
              "        vertical-align: middle;\n",
              "    }\n",
              "\n",
              "    .dataframe tbody tr th {\n",
              "        vertical-align: top;\n",
              "    }\n",
              "\n",
              "    .dataframe thead th {\n",
              "        text-align: right;\n",
              "    }\n",
              "</style>\n",
              "<table border=\"1\" class=\"dataframe\">\n",
              "  <thead>\n",
              "    <tr style=\"text-align: right;\">\n",
              "      <th></th>\n",
              "      <th>Name</th>\n",
              "    </tr>\n",
              "  </thead>\n",
              "  <tbody>\n",
              "    <tr>\n",
              "      <th>64</th>\n",
              "      <td>Menadione</td>\n",
              "    </tr>\n",
              "    <tr>\n",
              "      <th>145</th>\n",
              "      <td>Terconazole</td>\n",
              "    </tr>\n",
              "    <tr>\n",
              "      <th>170</th>\n",
              "      <td>Amsacrine</td>\n",
              "    </tr>\n",
              "    <tr>\n",
              "      <th>198</th>\n",
              "      <td>Mitomycin</td>\n",
              "    </tr>\n",
              "    <tr>\n",
              "      <th>214</th>\n",
              "      <td>Amitriptyline</td>\n",
              "    </tr>\n",
              "    <tr>\n",
              "      <th>276</th>\n",
              "      <td>Valrubicin</td>\n",
              "    </tr>\n",
              "    <tr>\n",
              "      <th>296</th>\n",
              "      <td>Gentian violet cation</td>\n",
              "    </tr>\n",
              "    <tr>\n",
              "      <th>334</th>\n",
              "      <td>Epirubicin</td>\n",
              "    </tr>\n",
              "    <tr>\n",
              "      <th>384</th>\n",
              "      <td>Zidovudine</td>\n",
              "    </tr>\n",
              "    <tr>\n",
              "      <th>387</th>\n",
              "      <td>Phenindione</td>\n",
              "    </tr>\n",
              "    <tr>\n",
              "      <th>426</th>\n",
              "      <td>Nortriptyline</td>\n",
              "    </tr>\n",
              "    <tr>\n",
              "      <th>501</th>\n",
              "      <td>Rifabutin</td>\n",
              "    </tr>\n",
              "    <tr>\n",
              "      <th>579</th>\n",
              "      <td>Daunorubicin</td>\n",
              "    </tr>\n",
              "    <tr>\n",
              "      <th>676</th>\n",
              "      <td>Sulfasalazine</td>\n",
              "    </tr>\n",
              "    <tr>\n",
              "      <th>693</th>\n",
              "      <td>Phenylbutazone</td>\n",
              "    </tr>\n",
              "    <tr>\n",
              "      <th>731</th>\n",
              "      <td>Dacarbazine</td>\n",
              "    </tr>\n",
              "    <tr>\n",
              "      <th>755</th>\n",
              "      <td>Flupentixol</td>\n",
              "    </tr>\n",
              "    <tr>\n",
              "      <th>840</th>\n",
              "      <td>Bromfenac</td>\n",
              "    </tr>\n",
              "    <tr>\n",
              "      <th>872</th>\n",
              "      <td>Doxorubicin</td>\n",
              "    </tr>\n",
              "    <tr>\n",
              "      <th>889</th>\n",
              "      <td>Balsalazide</td>\n",
              "    </tr>\n",
              "    <tr>\n",
              "      <th>897</th>\n",
              "      <td>Phylloquinone</td>\n",
              "    </tr>\n",
              "    <tr>\n",
              "      <th>901</th>\n",
              "      <td>Ketoconazole</td>\n",
              "    </tr>\n",
              "    <tr>\n",
              "      <th>974</th>\n",
              "      <td>Quinacrine</td>\n",
              "    </tr>\n",
              "    <tr>\n",
              "      <th>987</th>\n",
              "      <td>Atovaquone</td>\n",
              "    </tr>\n",
              "    <tr>\n",
              "      <th>995</th>\n",
              "      <td>Anisindione</td>\n",
              "    </tr>\n",
              "    <tr>\n",
              "      <th>1008</th>\n",
              "      <td>Sulfinpyrazone</td>\n",
              "    </tr>\n",
              "    <tr>\n",
              "      <th>1026</th>\n",
              "      <td>Trimetrexate</td>\n",
              "    </tr>\n",
              "    <tr>\n",
              "      <th>1036</th>\n",
              "      <td>Itraconazole</td>\n",
              "    </tr>\n",
              "    <tr>\n",
              "      <th>1046</th>\n",
              "      <td>Idarubicin</td>\n",
              "    </tr>\n",
              "    <tr>\n",
              "      <th>1073</th>\n",
              "      <td>Mitoxantrone</td>\n",
              "    </tr>\n",
              "    <tr>\n",
              "      <th>...</th>\n",
              "      <td>...</td>\n",
              "    </tr>\n",
              "    <tr>\n",
              "      <th>9237</th>\n",
              "      <td>Pimethixene</td>\n",
              "    </tr>\n",
              "    <tr>\n",
              "      <th>9238</th>\n",
              "      <td>Azidamfenicol</td>\n",
              "    </tr>\n",
              "    <tr>\n",
              "      <th>9243</th>\n",
              "      <td>Triaziquone</td>\n",
              "    </tr>\n",
              "    <tr>\n",
              "      <th>9286</th>\n",
              "      <td>Diphenadione</td>\n",
              "    </tr>\n",
              "    <tr>\n",
              "      <th>9302</th>\n",
              "      <td>Feprazone</td>\n",
              "    </tr>\n",
              "    <tr>\n",
              "      <th>9318</th>\n",
              "      <td>Melitracen</td>\n",
              "    </tr>\n",
              "    <tr>\n",
              "      <th>9396</th>\n",
              "      <td>Phanquinone</td>\n",
              "    </tr>\n",
              "    <tr>\n",
              "      <th>9396</th>\n",
              "      <td>Phanquinone</td>\n",
              "    </tr>\n",
              "    <tr>\n",
              "      <th>9460</th>\n",
              "      <td>Iprazochrome</td>\n",
              "    </tr>\n",
              "    <tr>\n",
              "      <th>9460</th>\n",
              "      <td>Iprazochrome</td>\n",
              "    </tr>\n",
              "    <tr>\n",
              "      <th>9464</th>\n",
              "      <td>Isobromindione</td>\n",
              "    </tr>\n",
              "    <tr>\n",
              "      <th>9554</th>\n",
              "      <td>Metisazone</td>\n",
              "    </tr>\n",
              "    <tr>\n",
              "      <th>9587</th>\n",
              "      <td>Carboquone</td>\n",
              "    </tr>\n",
              "    <tr>\n",
              "      <th>9590</th>\n",
              "      <td>Naftazone</td>\n",
              "    </tr>\n",
              "    <tr>\n",
              "      <th>9590</th>\n",
              "      <td>Naftazone</td>\n",
              "    </tr>\n",
              "    <tr>\n",
              "      <th>9606</th>\n",
              "      <td>Ambazone</td>\n",
              "    </tr>\n",
              "    <tr>\n",
              "      <th>9635</th>\n",
              "      <td>Halometasone</td>\n",
              "    </tr>\n",
              "    <tr>\n",
              "      <th>9649</th>\n",
              "      <td>Fazadinium bromide</td>\n",
              "    </tr>\n",
              "    <tr>\n",
              "      <th>9742</th>\n",
              "      <td>Clopenthixol</td>\n",
              "    </tr>\n",
              "    <tr>\n",
              "      <th>9824</th>\n",
              "      <td>Patent Blue</td>\n",
              "    </tr>\n",
              "    <tr>\n",
              "      <th>9919</th>\n",
              "      <td>Tocopherylquinone</td>\n",
              "    </tr>\n",
              "    <tr>\n",
              "      <th>9988</th>\n",
              "      <td>Disperse Blue 106</td>\n",
              "    </tr>\n",
              "    <tr>\n",
              "      <th>10164</th>\n",
              "      <td>Cortisone</td>\n",
              "    </tr>\n",
              "    <tr>\n",
              "      <th>10306</th>\n",
              "      <td>Menaquinone 6</td>\n",
              "    </tr>\n",
              "    <tr>\n",
              "      <th>10409</th>\n",
              "      <td>Onvansertib</td>\n",
              "    </tr>\n",
              "    <tr>\n",
              "      <th>10434</th>\n",
              "      <td>TMC-649128</td>\n",
              "    </tr>\n",
              "    <tr>\n",
              "      <th>10497</th>\n",
              "      <td>Vercirnon</td>\n",
              "    </tr>\n",
              "    <tr>\n",
              "      <th>10522</th>\n",
              "      <td>Epalrestat</td>\n",
              "    </tr>\n",
              "    <tr>\n",
              "      <th>10573</th>\n",
              "      <td>JNJ-27548547</td>\n",
              "    </tr>\n",
              "    <tr>\n",
              "      <th>10579</th>\n",
              "      <td>Menaquinone</td>\n",
              "    </tr>\n",
              "  </tbody>\n",
              "</table>\n",
              "<p>228 rows × 1 columns</p>\n",
              "</div>"
            ],
            "text/plain": [
              "                        Name\n",
              "64                 Menadione\n",
              "145              Terconazole\n",
              "170                Amsacrine\n",
              "198                Mitomycin\n",
              "214            Amitriptyline\n",
              "276               Valrubicin\n",
              "296    Gentian violet cation\n",
              "334               Epirubicin\n",
              "384               Zidovudine\n",
              "387              Phenindione\n",
              "426            Nortriptyline\n",
              "501                Rifabutin\n",
              "579             Daunorubicin\n",
              "676            Sulfasalazine\n",
              "693           Phenylbutazone\n",
              "731              Dacarbazine\n",
              "755              Flupentixol\n",
              "840                Bromfenac\n",
              "872              Doxorubicin\n",
              "889              Balsalazide\n",
              "897            Phylloquinone\n",
              "901             Ketoconazole\n",
              "974               Quinacrine\n",
              "987               Atovaquone\n",
              "995              Anisindione\n",
              "1008          Sulfinpyrazone\n",
              "1026            Trimetrexate\n",
              "1036            Itraconazole\n",
              "1046              Idarubicin\n",
              "1073            Mitoxantrone\n",
              "...                      ...\n",
              "9237             Pimethixene\n",
              "9238           Azidamfenicol\n",
              "9243             Triaziquone\n",
              "9286            Diphenadione\n",
              "9302               Feprazone\n",
              "9318              Melitracen\n",
              "9396             Phanquinone\n",
              "9396             Phanquinone\n",
              "9460            Iprazochrome\n",
              "9460            Iprazochrome\n",
              "9464          Isobromindione\n",
              "9554              Metisazone\n",
              "9587              Carboquone\n",
              "9590               Naftazone\n",
              "9590               Naftazone\n",
              "9606                Ambazone\n",
              "9635            Halometasone\n",
              "9649      Fazadinium bromide\n",
              "9742            Clopenthixol\n",
              "9824             Patent Blue\n",
              "9919       Tocopherylquinone\n",
              "9988       Disperse Blue 106\n",
              "10164              Cortisone\n",
              "10306          Menaquinone 6\n",
              "10409            Onvansertib\n",
              "10434             TMC-649128\n",
              "10497              Vercirnon\n",
              "10522             Epalrestat\n",
              "10573           JNJ-27548547\n",
              "10579            Menaquinone\n",
              "\n",
              "[228 rows x 1 columns]"
            ]
          },
          "metadata": {
            "tags": []
          },
          "execution_count": 37
        }
      ]
    },
    {
      "cell_type": "code",
      "metadata": {
        "id": "ugohJtjyqpVe",
        "colab_type": "code",
        "colab": {}
      },
      "source": [
        ""
      ],
      "execution_count": 0,
      "outputs": []
    }
  ]
}